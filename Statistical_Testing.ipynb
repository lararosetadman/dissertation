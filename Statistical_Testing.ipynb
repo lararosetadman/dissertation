{
 "cells": [
  {
   "cell_type": "markdown",
   "id": "db9d9f8e",
   "metadata": {},
   "source": [
    "## Statistical Testing"
   ]
  },
  {
   "cell_type": "markdown",
   "id": "c02100dd",
   "metadata": {},
   "source": [
    "Will be performing the One way ANOVA test because we are comparing the sample means of more than 3 groups. We need to check that the samples meet the assumptions of the test. The assumptions are that they have equal variances and have a normal distribution. "
   ]
  },
  {
   "cell_type": "code",
   "execution_count": 59,
   "id": "57c578ed",
   "metadata": {},
   "outputs": [],
   "source": [
    "import pandas as pd\n",
    "import numpy as np\n",
    "import matplotlib.pyplot as plt\n",
    "from scipy import stats\n",
    "import seaborn as sns\n",
    "from scipy.stats import kruskal"
   ]
  },
  {
   "cell_type": "code",
   "execution_count": 60,
   "id": "f5d2eb02",
   "metadata": {},
   "outputs": [],
   "source": [
    "#import the datasets\n",
    "vegan = pd.read_csv('vegan_impacts.csv')\n",
    "vegetarian = pd.read_csv('vegetarian_impacts.csv')\n",
    "beef = pd.read_csv('beef_impacts.csv')\n",
    "chicken = pd.read_csv('chicken_impacts.csv')"
   ]
  },
  {
   "cell_type": "markdown",
   "id": "20b6363a",
   "metadata": {},
   "source": [
    "## Testing the assumtion of normality"
   ]
  },
  {
   "cell_type": "code",
   "execution_count": 61,
   "id": "79957adc",
   "metadata": {},
   "outputs": [
    {
     "data": {
      "text/plain": [
       "((array([-1.49876728, -0.98494667, -0.64703803, -0.37109819, -0.12121409,\n",
       "          0.12121409,  0.37109819,  0.64703803,  0.98494667,  1.49876728]),\n",
       "  array([25, 29, 33, 38, 38, 40, 42, 43, 48, 51])),\n",
       " (8.696942832769212, 38.7, 0.9904068965373636))"
      ]
     },
     "execution_count": 61,
     "metadata": {},
     "output_type": "execute_result"
    },
    {
     "data": {
      "image/png": "[encoded data removed]",
      "text/plain": [
       "<Figure size 432x288 with 1 Axes>"
      ]
     },
     "metadata": {
      "needs_background": "light"
     },
     "output_type": "display_data"
    }
   ],
   "source": [
    "#Visual test of normality\n",
    "stats.probplot(beef['land'], plot=plt)"
   ]
  },
  {
   "cell_type": "code",
   "execution_count": 62,
   "id": "c546e0de",
   "metadata": {},
   "outputs": [
    {
     "name": "stdout",
     "output_type": "stream",
     "text": [
      "ShapiroResult(statistic=0.7151870727539062, pvalue=0.0013462729984894395)\n",
      "ShapiroResult(statistic=0.8369253873825073, pvalue=0.04053288325667381)\n",
      "ShapiroResult(statistic=0.9414929151535034, pvalue=0.5697427988052368)\n",
      "ShapiroResult(statistic=0.9502028822898865, pvalue=0.6709014177322388)\n"
     ]
    }
   ],
   "source": [
    "impacts = ['land', 'water', 'global_warming', 'protein']\n",
    "\n",
    "for item in impacts:\n",
    "    print(stats.shapiro(vegan[item]))\n",
    "    "
   ]
  },
  {
   "cell_type": "code",
   "execution_count": 63,
   "id": "c15bf6f8",
   "metadata": {},
   "outputs": [
    {
     "name": "stdout",
     "output_type": "stream",
     "text": [
      "ShapiroResult(statistic=0.9541471004486084, pvalue=0.7176300287246704)\n",
      "ShapiroResult(statistic=0.6352478861808777, pvalue=0.00014595566608477384)\n",
      "ShapiroResult(statistic=0.9574443697929382, pvalue=0.7563861012458801)\n",
      "ShapiroResult(statistic=0.8872711658477783, pvalue=0.15795786678791046)\n"
     ]
    }
   ],
   "source": [
    "impacts = ['land', 'water', 'global_warming', 'protein']\n",
    "\n",
    "for item in impacts:\n",
    "    print(stats.shapiro(vegetarian[item]))"
   ]
  },
  {
   "cell_type": "code",
   "execution_count": 64,
   "id": "c10fbc32",
   "metadata": {},
   "outputs": [
    {
     "name": "stdout",
     "output_type": "stream",
     "text": [
      "ShapiroResult(statistic=0.9764467477798462, pvalue=0.9433614611625671)\n",
      "ShapiroResult(statistic=0.9189916253089905, pvalue=0.34862154722213745)\n",
      "ShapiroResult(statistic=0.9434554576873779, pvalue=0.592063307762146)\n",
      "ShapiroResult(statistic=0.9598194360733032, pvalue=0.7838115692138672)\n"
     ]
    }
   ],
   "source": [
    "impacts = ['land', 'water', 'global_warming', 'protein']\n",
    "\n",
    "for item in impacts:\n",
    "    print(stats.shapiro(beef[item]))"
   ]
  },
  {
   "cell_type": "code",
   "execution_count": 65,
   "id": "3d45b12d",
   "metadata": {},
   "outputs": [
    {
     "name": "stdout",
     "output_type": "stream",
     "text": [
      "ShapiroResult(statistic=0.75389564037323, pvalue=0.003980645909905434)\n",
      "ShapiroResult(statistic=0.9733883738517761, pvalue=0.9203604459762573)\n",
      "ShapiroResult(statistic=0.7306182384490967, pvalue=0.002073157113045454)\n",
      "ShapiroResult(statistic=0.8777351975440979, pvalue=0.12289445847272873)\n"
     ]
    }
   ],
   "source": [
    "impacts = ['land', 'water', 'global_warming', 'protein']\n",
    "\n",
    "for item in impacts:\n",
    "    print(stats.shapiro(chicken[item]))"
   ]
  },
  {
   "cell_type": "markdown",
   "id": "b0567026",
   "metadata": {},
   "source": [
    "## Testing the assumtion of equal variance"
   ]
  },
  {
   "cell_type": "markdown",
   "id": "04066008",
   "metadata": {},
   "source": [
    "***Equal variance for Beef***"
   ]
  },
  {
   "cell_type": "code",
   "execution_count": 66,
   "id": "ca217495",
   "metadata": {},
   "outputs": [
    {
     "name": "stdout",
     "output_type": "stream",
     "text": [
      "58.40999999999999\n",
      "70.05\n",
      "60.55999999999999\n",
      "556.41\n"
     ]
    }
   ],
   "source": [
    "impacts = ['land', 'water', 'global_warming', 'protein']\n",
    "\n",
    "for item in impacts:\n",
    "    var = np.var(beef[item])\n",
    "    print(var)"
   ]
  },
  {
   "cell_type": "markdown",
   "id": "32089308",
   "metadata": {},
   "source": [
    "***Equal variance for chicken***"
   ]
  },
  {
   "cell_type": "code",
   "execution_count": 67,
   "id": "3294520b",
   "metadata": {},
   "outputs": [
    {
     "name": "stdout",
     "output_type": "stream",
     "text": [
      "49.81\n",
      "23.09\n",
      "12.24\n",
      "420.2900000000001\n"
     ]
    }
   ],
   "source": [
    "impacts = ['land', 'water', 'global_warming', 'protein']\n",
    "\n",
    "for item in impacts:\n",
    "    var = np.var(chicken[item])\n",
    "    print(var)"
   ]
  },
  {
   "cell_type": "markdown",
   "id": "9a6d6bab",
   "metadata": {},
   "source": [
    "***Equal variance for vegan***"
   ]
  },
  {
   "cell_type": "code",
   "execution_count": 68,
   "id": "2d901e92",
   "metadata": {},
   "outputs": [
    {
     "name": "stdout",
     "output_type": "stream",
     "text": [
      "4.89\n",
      "49.83999999999999\n",
      "5.16\n",
      "139.60999999999999\n"
     ]
    }
   ],
   "source": [
    "impacts = ['land', 'water', 'global_warming', 'protein']\n",
    "\n",
    "for item in impacts:\n",
    "    var = np.var(vegan[item])\n",
    "    print(var)"
   ]
  },
  {
   "cell_type": "markdown",
   "id": "792d5492",
   "metadata": {},
   "source": [
    "***Equal variance for vegetarian***"
   ]
  },
  {
   "cell_type": "code",
   "execution_count": 69,
   "id": "e172f5d3",
   "metadata": {},
   "outputs": [
    {
     "name": "stdout",
     "output_type": "stream",
     "text": [
      "6.159999999999999\n",
      "28.410000000000004\n",
      "14.840000000000003\n",
      "119.45\n"
     ]
    }
   ],
   "source": [
    "impacts = ['land', 'water', 'global_warming', 'protein']\n",
    "\n",
    "for item in impacts:\n",
    "    var = np.var(vegetarian[item])\n",
    "    print(var)"
   ]
  },
  {
   "cell_type": "markdown",
   "id": "3acfd475",
   "metadata": {},
   "source": [
    "Because the samples are showing to have different variances and do not follow the normal distribution we cannot use the ANOVA one way test. Instead we need to use the non-parametric version of this test: The Kruskal Wallis H Test. This test is a rank-based and can be used to determine if there are statistically significant differences between two or more groups of an independent variable on a continuous or ordinal dependent variable."
   ]
  },
  {
   "cell_type": "markdown",
   "id": "9e6de197",
   "metadata": {},
   "source": [
    "## Performing the Kruskal-Wallis H Test"
   ]
  },
  {
   "cell_type": "markdown",
   "id": "d1351d79",
   "metadata": {},
   "source": [
    "The Kruskal-Wallis test is a nonparametric version of the one-way analysis of variance test or ANOVA for short. This test determines whether more than two independent samples have different distributions. \n",
    "\n",
    "The null hypothesis is that all data samples are drawn from the same distribution. Specifically, that the population medians of all groups are equal. A rejection of the null hypothesis indicates that there is enough evidence to suggest that one or more samples dominate another sample, but the test does not indicate which samples or by how much."
   ]
  },
  {
   "cell_type": "markdown",
   "id": "f26e6bea",
   "metadata": {},
   "source": [
    "## Land"
   ]
  },
  {
   "cell_type": "markdown",
   "id": "989c994c",
   "metadata": {},
   "source": [
    "### Kruskal Wallis Test"
   ]
  },
  {
   "cell_type": "code",
   "execution_count": 70,
   "id": "313c1f57",
   "metadata": {},
   "outputs": [],
   "source": [
    "stat, p = kruskal(vegan['land'], vegetarian['land'], beef['land'], chicken['land'])"
   ]
  },
  {
   "cell_type": "code",
   "execution_count": 71,
   "id": "f685a0bc",
   "metadata": {},
   "outputs": [
    {
     "name": "stdout",
     "output_type": "stream",
     "text": [
      "Statistics=34.781, p=0.000000135\n"
     ]
    }
   ],
   "source": [
    "print('Statistics=%.3f, p=%.9f' % (stat, p))"
   ]
  },
  {
   "cell_type": "markdown",
   "id": "19d67d7e",
   "metadata": {},
   "source": [
    "### Interpret Test"
   ]
  },
  {
   "cell_type": "code",
   "execution_count": 72,
   "id": "a55a3b1e",
   "metadata": {},
   "outputs": [
    {
     "name": "stdout",
     "output_type": "stream",
     "text": [
      "Different distributions (reject H0)\n"
     ]
    }
   ],
   "source": [
    "# interpret\n",
    "alpha = 0.05\n",
    "if p > alpha:\n",
    "\tprint('Same distributions (fail to reject H0)')\n",
    "else:\n",
    "\tprint('Different distributions (reject H0)')"
   ]
  },
  {
   "cell_type": "markdown",
   "id": "ea918197",
   "metadata": {},
   "source": [
    "From the above test we can see that the results show the distributions of the different diet types are not the same. Now we can use a post Hoc test to figure out which diet types are different from eachother."
   ]
  },
  {
   "cell_type": "markdown",
   "id": "762b2535",
   "metadata": {},
   "source": [
    "### Post Hoc Dunn Test "
   ]
  },
  {
   "cell_type": "code",
   "execution_count": 73,
   "id": "2574c3e6",
   "metadata": {},
   "outputs": [
    {
     "data": {
      "text/html": [
       "<div>\n",
       "<style scoped>\n",
       "    .dataframe tbody tr th:only-of-type {\n",
       "        vertical-align: middle;\n",
       "    }\n",
       "\n",
       "    .dataframe tbody tr th {\n",
       "        vertical-align: top;\n",
       "    }\n",
       "\n",
       "    .dataframe thead th {\n",
       "        text-align: right;\n",
       "    }\n",
       "</style>\n",
       "<table border=\"1\" class=\"dataframe\">\n",
       "  <thead>\n",
       "    <tr style=\"text-align: right;\">\n",
       "      <th></th>\n",
       "      <th>beef</th>\n",
       "      <th>chicken</th>\n",
       "      <th>vegan</th>\n",
       "      <th>vegetarian</th>\n",
       "    </tr>\n",
       "  </thead>\n",
       "  <tbody>\n",
       "    <tr>\n",
       "      <th>beef</th>\n",
       "      <td>1.000000e+00</td>\n",
       "      <td>0.753375</td>\n",
       "      <td>2.605584e-07</td>\n",
       "      <td>0.001221</td>\n",
       "    </tr>\n",
       "    <tr>\n",
       "      <th>chicken</th>\n",
       "      <td>7.533752e-01</td>\n",
       "      <td>1.000000</td>\n",
       "      <td>4.798366e-04</td>\n",
       "      <td>0.174273</td>\n",
       "    </tr>\n",
       "    <tr>\n",
       "      <th>vegan</th>\n",
       "      <td>2.605584e-07</td>\n",
       "      <td>0.000480</td>\n",
       "      <td>1.000000e+00</td>\n",
       "      <td>0.468808</td>\n",
       "    </tr>\n",
       "    <tr>\n",
       "      <th>vegetarian</th>\n",
       "      <td>1.220640e-03</td>\n",
       "      <td>0.174273</td>\n",
       "      <td>4.688081e-01</td>\n",
       "      <td>1.000000</td>\n",
       "    </tr>\n",
       "  </tbody>\n",
       "</table>\n",
       "</div>"
      ],
      "text/plain": [
       "                    beef   chicken         vegan  vegetarian\n",
       "beef        1.000000e+00  0.753375  2.605584e-07    0.001221\n",
       "chicken     7.533752e-01  1.000000  4.798366e-04    0.174273\n",
       "vegan       2.605584e-07  0.000480  1.000000e+00    0.468808\n",
       "vegetarian  1.220640e-03  0.174273  4.688081e-01    1.000000"
      ]
     },
     "execution_count": 73,
     "metadata": {},
     "output_type": "execute_result"
    }
   ],
   "source": [
    "#Post Hoc Dunn Test\n",
    "import scikit_posthocs as sp\n",
    "\n",
    "df = vegan.append([vegetarian, beef, chicken], ignore_index=True)\n",
    "\n",
    "sp.posthoc_dunn(df, 'land', 'diet_type', 'bonferroni')"
   ]
  },
  {
   "cell_type": "markdown",
   "id": "664ad65e",
   "metadata": {},
   "source": [
    "### Interpret Results"
   ]
  },
  {
   "cell_type": "markdown",
   "id": "1a9c1020",
   "metadata": {},
   "source": [
    "- Beef and Chicken: No significant difference\n",
    "- Beef and Vegan: Very significant difference\n",
    "- Beef and Vegetarian: Significant difference\n",
    "- Vegan and Vegetarian: No significant difference\n",
    "- Chicken and Vegan: Significant Difference\n",
    "- Chicken and Vegetarian: No significant difference"
   ]
  },
  {
   "cell_type": "markdown",
   "id": "ff532d27",
   "metadata": {},
   "source": [
    "## Water"
   ]
  },
  {
   "cell_type": "markdown",
   "id": "557c18a7",
   "metadata": {},
   "source": [
    "### Kruskal Wallis Test"
   ]
  },
  {
   "cell_type": "code",
   "execution_count": 74,
   "id": "2a7da460",
   "metadata": {},
   "outputs": [],
   "source": [
    "stat, p = kruskal(vegan['water'], vegetarian['water'], beef['water'], chicken['water'])"
   ]
  },
  {
   "cell_type": "code",
   "execution_count": 75,
   "id": "0560cc64",
   "metadata": {},
   "outputs": [
    {
     "name": "stdout",
     "output_type": "stream",
     "text": [
      "Statistics=26.629, p=0.000007042\n"
     ]
    }
   ],
   "source": [
    "print('Statistics=%.3f, p=%.9f' % (stat, p))"
   ]
  },
  {
   "cell_type": "markdown",
   "id": "537f36c3",
   "metadata": {},
   "source": [
    "### Interpret Test"
   ]
  },
  {
   "cell_type": "code",
   "execution_count": 76,
   "id": "0162f8e9",
   "metadata": {},
   "outputs": [
    {
     "name": "stdout",
     "output_type": "stream",
     "text": [
      "Different distributions (reject H0)\n"
     ]
    }
   ],
   "source": [
    "# interpret\n",
    "alpha = 0.05\n",
    "if p > alpha:\n",
    "\tprint('Same distributions (fail to reject H0)')\n",
    "else:\n",
    "\tprint('Different distributions (reject H0)')"
   ]
  },
  {
   "cell_type": "markdown",
   "id": "985244cd",
   "metadata": {},
   "source": [
    "From the above test we can see that the results show the distributions of the different diet types are not the same. Now we can use a post Hoc test to figure out which diet types are different from eachother."
   ]
  },
  {
   "cell_type": "markdown",
   "id": "a0ca39d7",
   "metadata": {},
   "source": [
    "### Post Hoc Dunn Test "
   ]
  },
  {
   "cell_type": "code",
   "execution_count": 77,
   "id": "6f8143a7",
   "metadata": {},
   "outputs": [
    {
     "data": {
      "text/html": [
       "<div>\n",
       "<style scoped>\n",
       "    .dataframe tbody tr th:only-of-type {\n",
       "        vertical-align: middle;\n",
       "    }\n",
       "\n",
       "    .dataframe tbody tr th {\n",
       "        vertical-align: top;\n",
       "    }\n",
       "\n",
       "    .dataframe thead th {\n",
       "        text-align: right;\n",
       "    }\n",
       "</style>\n",
       "<table border=\"1\" class=\"dataframe\">\n",
       "  <thead>\n",
       "    <tr style=\"text-align: right;\">\n",
       "      <th></th>\n",
       "      <th>beef</th>\n",
       "      <th>chicken</th>\n",
       "      <th>vegan</th>\n",
       "      <th>vegetarian</th>\n",
       "    </tr>\n",
       "  </thead>\n",
       "  <tbody>\n",
       "    <tr>\n",
       "      <th>beef</th>\n",
       "      <td>1.000000</td>\n",
       "      <td>0.105544</td>\n",
       "      <td>0.000034</td>\n",
       "      <td>0.000099</td>\n",
       "    </tr>\n",
       "    <tr>\n",
       "      <th>chicken</th>\n",
       "      <td>0.105544</td>\n",
       "      <td>1.000000</td>\n",
       "      <td>0.183009</td>\n",
       "      <td>0.318854</td>\n",
       "    </tr>\n",
       "    <tr>\n",
       "      <th>vegan</th>\n",
       "      <td>0.000034</td>\n",
       "      <td>0.183009</td>\n",
       "      <td>1.000000</td>\n",
       "      <td>1.000000</td>\n",
       "    </tr>\n",
       "    <tr>\n",
       "      <th>vegetarian</th>\n",
       "      <td>0.000099</td>\n",
       "      <td>0.318854</td>\n",
       "      <td>1.000000</td>\n",
       "      <td>1.000000</td>\n",
       "    </tr>\n",
       "  </tbody>\n",
       "</table>\n",
       "</div>"
      ],
      "text/plain": [
       "                beef   chicken     vegan  vegetarian\n",
       "beef        1.000000  0.105544  0.000034    0.000099\n",
       "chicken     0.105544  1.000000  0.183009    0.318854\n",
       "vegan       0.000034  0.183009  1.000000    1.000000\n",
       "vegetarian  0.000099  0.318854  1.000000    1.000000"
      ]
     },
     "execution_count": 77,
     "metadata": {},
     "output_type": "execute_result"
    }
   ],
   "source": [
    "#Post Hoc Dunn Test\n",
    "import scikit_posthocs as sp\n",
    "\n",
    "df = vegan.append([vegetarian, beef, chicken], ignore_index=True)\n",
    "\n",
    "sp.posthoc_dunn(df, 'water', 'diet_type', 'bonferroni')"
   ]
  },
  {
   "cell_type": "markdown",
   "id": "f70858c6",
   "metadata": {},
   "source": [
    "### Interpret Results"
   ]
  },
  {
   "cell_type": "markdown",
   "id": "b77a44db",
   "metadata": {},
   "source": [
    "- Beef and Chicken: No significant difference\n",
    "- Beef and Vegan: Very significant difference\n",
    "- Beef and Vegetarian: Significant difference\n",
    "- Vegan and Vegetarian: No significant difference\n",
    "- Chicken and Vegan: No significant Difference\n",
    "- Chicken and Vegetarian: No significant difference"
   ]
  },
  {
   "cell_type": "markdown",
   "id": "8d2ce6fc",
   "metadata": {},
   "source": [
    "## Protein"
   ]
  },
  {
   "cell_type": "markdown",
   "id": "31f74ce0",
   "metadata": {},
   "source": [
    "### Kruskal Wallis Test"
   ]
  },
  {
   "cell_type": "code",
   "execution_count": 78,
   "id": "23c23424",
   "metadata": {},
   "outputs": [],
   "source": [
    "stat, p = kruskal(vegan['protein'], vegetarian['protein'], beef['protein'], chicken['protein'])"
   ]
  },
  {
   "cell_type": "code",
   "execution_count": 79,
   "id": "e0c12045",
   "metadata": {},
   "outputs": [
    {
     "name": "stdout",
     "output_type": "stream",
     "text": [
      "Statistics=27.855, p=0.000003895\n"
     ]
    }
   ],
   "source": [
    "print('Statistics=%.3f, p=%.9f' % (stat, p))"
   ]
  },
  {
   "cell_type": "markdown",
   "id": "b92f431f",
   "metadata": {},
   "source": [
    "### Interpret Test"
   ]
  },
  {
   "cell_type": "code",
   "execution_count": 80,
   "id": "601c5c14",
   "metadata": {},
   "outputs": [
    {
     "name": "stdout",
     "output_type": "stream",
     "text": [
      "Different distributions (reject H0)\n"
     ]
    }
   ],
   "source": [
    "# interpret\n",
    "alpha = 0.05\n",
    "if p > alpha:\n",
    "\tprint('Same distributions (fail to reject H0)')\n",
    "else:\n",
    "\tprint('Different distributions (reject H0)')"
   ]
  },
  {
   "cell_type": "markdown",
   "id": "9092792b",
   "metadata": {},
   "source": [
    "From the above test we can see that the results show the distributions of the different diet types are not the same. Now we can use a post Hoc test to figure out which diet types are different from eachother."
   ]
  },
  {
   "cell_type": "markdown",
   "id": "596eb040",
   "metadata": {},
   "source": [
    "### Post Hoc Dunn Test "
   ]
  },
  {
   "cell_type": "code",
   "execution_count": 81,
   "id": "d321522f",
   "metadata": {},
   "outputs": [
    {
     "data": {
      "text/html": [
       "<div>\n",
       "<style scoped>\n",
       "    .dataframe tbody tr th:only-of-type {\n",
       "        vertical-align: middle;\n",
       "    }\n",
       "\n",
       "    .dataframe tbody tr th {\n",
       "        vertical-align: top;\n",
       "    }\n",
       "\n",
       "    .dataframe thead th {\n",
       "        text-align: right;\n",
       "    }\n",
       "</style>\n",
       "<table border=\"1\" class=\"dataframe\">\n",
       "  <thead>\n",
       "    <tr style=\"text-align: right;\">\n",
       "      <th></th>\n",
       "      <th>beef</th>\n",
       "      <th>chicken</th>\n",
       "      <th>vegan</th>\n",
       "      <th>vegetarian</th>\n",
       "    </tr>\n",
       "  </thead>\n",
       "  <tbody>\n",
       "    <tr>\n",
       "      <th>beef</th>\n",
       "      <td>1.000000</td>\n",
       "      <td>1.000000</td>\n",
       "      <td>0.004869</td>\n",
       "      <td>0.037259</td>\n",
       "    </tr>\n",
       "    <tr>\n",
       "      <th>chicken</th>\n",
       "      <td>1.000000</td>\n",
       "      <td>1.000000</td>\n",
       "      <td>0.000041</td>\n",
       "      <td>0.000615</td>\n",
       "    </tr>\n",
       "    <tr>\n",
       "      <th>vegan</th>\n",
       "      <td>0.004869</td>\n",
       "      <td>0.000041</td>\n",
       "      <td>1.000000</td>\n",
       "      <td>1.000000</td>\n",
       "    </tr>\n",
       "    <tr>\n",
       "      <th>vegetarian</th>\n",
       "      <td>0.037259</td>\n",
       "      <td>0.000615</td>\n",
       "      <td>1.000000</td>\n",
       "      <td>1.000000</td>\n",
       "    </tr>\n",
       "  </tbody>\n",
       "</table>\n",
       "</div>"
      ],
      "text/plain": [
       "                beef   chicken     vegan  vegetarian\n",
       "beef        1.000000  1.000000  0.004869    0.037259\n",
       "chicken     1.000000  1.000000  0.000041    0.000615\n",
       "vegan       0.004869  0.000041  1.000000    1.000000\n",
       "vegetarian  0.037259  0.000615  1.000000    1.000000"
      ]
     },
     "execution_count": 81,
     "metadata": {},
     "output_type": "execute_result"
    }
   ],
   "source": [
    "#Post Hoc Dunn Test\n",
    "import scikit_posthocs as sp\n",
    "\n",
    "df = vegan.append([vegetarian, beef, chicken], ignore_index=True)\n",
    "\n",
    "sp.posthoc_dunn(df, 'protein', 'diet_type', 'bonferroni')"
   ]
  },
  {
   "cell_type": "markdown",
   "id": "854ecd3c",
   "metadata": {},
   "source": [
    "### Interpret Results"
   ]
  },
  {
   "cell_type": "markdown",
   "id": "ef5f0612",
   "metadata": {},
   "source": [
    "- Beef and Chicken: No significant difference\n",
    "- Beef and Vegan: significant difference\n",
    "- Beef and Vegetarian: Significant difference\n",
    "- Vegan and Vegetarian: No significant difference\n",
    "- Chicken and Vegan: Significant Difference\n",
    "- Chicken and Vegetarian: Significant difference"
   ]
  },
  {
   "cell_type": "markdown",
   "id": "347634f3",
   "metadata": {},
   "source": [
    "## Global Warming"
   ]
  },
  {
   "cell_type": "markdown",
   "id": "0bddeb95",
   "metadata": {},
   "source": [
    "### Kruskal Wallis Test"
   ]
  },
  {
   "cell_type": "code",
   "execution_count": 82,
   "id": "bfaa637b",
   "metadata": {},
   "outputs": [],
   "source": [
    "stat, p = kruskal(vegan['global_warming'], vegetarian['global_warming'], beef['global_warming'], chicken['global_warming'])"
   ]
  },
  {
   "cell_type": "code",
   "execution_count": 83,
   "id": "68febfd9",
   "metadata": {},
   "outputs": [
    {
     "name": "stdout",
     "output_type": "stream",
     "text": [
      "Statistics=29.341, p=0.000001899\n"
     ]
    }
   ],
   "source": [
    "print('Statistics=%.3f, p=%.9f' % (stat, p))"
   ]
  },
  {
   "cell_type": "markdown",
   "id": "c23ae305",
   "metadata": {},
   "source": [
    "### Interpret Test"
   ]
  },
  {
   "cell_type": "code",
   "execution_count": 84,
   "id": "b903cca6",
   "metadata": {},
   "outputs": [
    {
     "name": "stdout",
     "output_type": "stream",
     "text": [
      "Different distributions (reject H0)\n"
     ]
    }
   ],
   "source": [
    "# interpret\n",
    "alpha = 0.05\n",
    "if p > alpha:\n",
    "\tprint('Same distributions (fail to reject H0)')\n",
    "else:\n",
    "\tprint('Different distributions (reject H0)')"
   ]
  },
  {
   "cell_type": "markdown",
   "id": "da3bcc9a",
   "metadata": {},
   "source": [
    "From the above test we can see that the results show the distributions of the different diet types are not the same. Now we can use a post Hoc test to figure out which diet types are different from eachother."
   ]
  },
  {
   "cell_type": "code",
   "execution_count": 85,
   "id": "0afb1265",
   "metadata": {},
   "outputs": [
    {
     "data": {
      "text/html": [
       "<div>\n",
       "<style scoped>\n",
       "    .dataframe tbody tr th:only-of-type {\n",
       "        vertical-align: middle;\n",
       "    }\n",
       "\n",
       "    .dataframe tbody tr th {\n",
       "        vertical-align: top;\n",
       "    }\n",
       "\n",
       "    .dataframe thead th {\n",
       "        text-align: right;\n",
       "    }\n",
       "</style>\n",
       "<table border=\"1\" class=\"dataframe\">\n",
       "  <thead>\n",
       "    <tr style=\"text-align: right;\">\n",
       "      <th></th>\n",
       "      <th>beef</th>\n",
       "      <th>chicken</th>\n",
       "      <th>vegan</th>\n",
       "      <th>vegetarian</th>\n",
       "    </tr>\n",
       "  </thead>\n",
       "  <tbody>\n",
       "    <tr>\n",
       "      <th>beef</th>\n",
       "      <td>1.000000e+00</td>\n",
       "      <td>0.008776</td>\n",
       "      <td>4.312831e-07</td>\n",
       "      <td>0.020154</td>\n",
       "    </tr>\n",
       "    <tr>\n",
       "      <th>chicken</th>\n",
       "      <td>8.775559e-03</td>\n",
       "      <td>1.000000</td>\n",
       "      <td>1.649769e-01</td>\n",
       "      <td>1.000000</td>\n",
       "    </tr>\n",
       "    <tr>\n",
       "      <th>vegan</th>\n",
       "      <td>4.312831e-07</td>\n",
       "      <td>0.164977</td>\n",
       "      <td>1.000000e+00</td>\n",
       "      <td>0.084862</td>\n",
       "    </tr>\n",
       "    <tr>\n",
       "      <th>vegetarian</th>\n",
       "      <td>2.015445e-02</td>\n",
       "      <td>1.000000</td>\n",
       "      <td>8.486190e-02</td>\n",
       "      <td>1.000000</td>\n",
       "    </tr>\n",
       "  </tbody>\n",
       "</table>\n",
       "</div>"
      ],
      "text/plain": [
       "                    beef   chicken         vegan  vegetarian\n",
       "beef        1.000000e+00  0.008776  4.312831e-07    0.020154\n",
       "chicken     8.775559e-03  1.000000  1.649769e-01    1.000000\n",
       "vegan       4.312831e-07  0.164977  1.000000e+00    0.084862\n",
       "vegetarian  2.015445e-02  1.000000  8.486190e-02    1.000000"
      ]
     },
     "execution_count": 85,
     "metadata": {},
     "output_type": "execute_result"
    }
   ],
   "source": [
    "#Post Hoc Dunn Test\n",
    "import scikit_posthocs as sp\n",
    "\n",
    "df = vegan.append([vegetarian, beef, chicken], ignore_index=True)\n",
    "\n",
    "sp.posthoc_dunn(df, 'global_warming', 'diet_type', 'bonferroni')"
   ]
  },
  {
   "cell_type": "markdown",
   "id": "e3da8546",
   "metadata": {},
   "source": [
    "- Beef and Chicken: Significant difference\n",
    "- Beef and Vegan: Significant difference\n",
    "- Beef and Vegetarian: Significant difference\n",
    "- Vegan and Vegetarian: No significant difference\n",
    "- Chicken and Vegan: No Significant Difference\n",
    "- Chicken and Vegetarian: No Significant difference"
   ]
  },
  {
   "cell_type": "markdown",
   "id": "9c3138cd",
   "metadata": {},
   "source": [
    "### Below is the code for parametric testing (If there was equal variance and normality)"
   ]
  },
  {
   "cell_type": "markdown",
   "id": "2cceff6e",
   "metadata": {},
   "source": [
    "## Performing the ANOVA test"
   ]
  },
  {
   "cell_type": "markdown",
   "id": "6d506f3a",
   "metadata": {},
   "source": [
    "***Null Hypothesis***: Mean land impacts across the different diet types are the same\n",
    "\n",
    "***Alternative hypothesis***: At least one of the means differ"
   ]
  },
  {
   "cell_type": "code",
   "execution_count": 61,
   "id": "99f6a018",
   "metadata": {},
   "outputs": [
    {
     "name": "stdout",
     "output_type": "stream",
     "text": [
      "land : F_onewayResult(statistic=68.13121489058435, pvalue=6.494984644888813e-15)\n",
      "water : F_onewayResult(statistic=44.84561526343429, pvalue=3.028523564023994e-12)\n",
      "global_warming : F_onewayResult(statistic=86.92112068965527, pvalue=1.4877249438682544e-16)\n",
      "protein : F_onewayResult(statistic=26.416294426102144, pvalue=3.2865602587302345e-09)\n"
     ]
    }
   ],
   "source": [
    "#List of the different impacts\n",
    "impacts = ['land', 'water', 'global_warming', 'protein']\n",
    "\n",
    "#Perform ANOVA test for each impact type\n",
    "for item in impacts:\n",
    "    print(item,\":\",stats.f_oneway(beef[item], vegan[item], vegetarian[item], chicken[item]))\n",
    "    "
   ]
  },
  {
   "cell_type": "markdown",
   "id": "0755f0e4",
   "metadata": {},
   "source": [
    "The result of this test is that we have enough evidence to reject the null hypothesis that there is no difference between the means of the two samples, this is because the p value for all four impacts is significant."
   ]
  },
  {
   "cell_type": "markdown",
   "id": "3f3b24dd",
   "metadata": {},
   "source": [
    "## Post Hoc tests to figure out where the differences are "
   ]
  },
  {
   "cell_type": "markdown",
   "id": "3eb4baeb",
   "metadata": {},
   "source": [
    "## Land"
   ]
  },
  {
   "cell_type": "code",
   "execution_count": 75,
   "id": "e347357b",
   "metadata": {},
   "outputs": [
    {
     "name": "stdout",
     "output_type": "stream",
     "text": [
      "Beef Vegan : Ttest_indResult(statistic=12.744890250141493, pvalue=1.0146088207388554e-07)\n",
      "Beef Vegetarian : Ttest_indResult(statistic=10.266881639673578, pvalue=6.239701182950977e-07)\n",
      "Beef Chicken : Ttest_indResult(statistic=4.0373418688669505, pvalue=0.0007814080453523354)\n",
      "Chicken Vegan : Ttest_indResult(statistic=8.031428211874042, pvalue=7.269595504133281e-06)\n",
      "chicken Vegetarian : Ttest_indResult(statistic=5.4134903850481155, pvalue=0.00019979468778821686)\n",
      "Vegan Vegetarian : Ttest_indResult(statistic=-5.685657115283965, pvalue=2.2688890498798954e-05)\n"
     ]
    }
   ],
   "source": [
    "print(\"Beef Vegan\",\":\", stats.ttest_ind(a=beef['land'], b=vegan['land'], equal_var = False))\n",
    "print(\"Beef Vegetarian\",\":\",stats.ttest_ind(a=beef['land'], b=vegetarian['land'], equal_var = False))\n",
    "print(\"Beef Chicken\",\":\",stats.ttest_ind(a=beef['land'], b=chicken['land'], equal_var = False))\n",
    "print(\"Chicken Vegan\",\":\",stats.ttest_ind(a=chicken['land'], b=vegan['land'], equal_var = False))\n",
    "print(\"chicken Vegetarian\",\":\",stats.ttest_ind(a=chicken['land'], b=vegetarian['land'], equal_var = False))\n",
    "print(\"Vegan Vegetarian\",\":\",stats.ttest_ind(a=vegan['land'], b=vegetarian['land'], equal_var = False))"
   ]
  },
  {
   "cell_type": "markdown",
   "id": "3641d1e9",
   "metadata": {},
   "source": [
    "For the test above, we can see that all of the diet types are different from each other with significant p values. The most significantly different diet types are beef and vegan, and beef and vegetarian. Using unadjusted  pairwise t-tests can overestimate significance, however, because the more comparisons you make, the more likely you are to come across an unlikely result due to chance. We can adjust for this multiple comparison problem by dividing the statistical significance level by the number of comparisons made. So 0.05 becomes 0.05/6= 0.0083. Even with this they are still all significant."
   ]
  },
  {
   "cell_type": "markdown",
   "id": "059879d2",
   "metadata": {},
   "source": [
    "### Using Tukeys significance test"
   ]
  },
  {
   "cell_type": "markdown",
   "id": "923184b8",
   "metadata": {},
   "source": [
    "Tukey's range test, also known as Tukey's test, Tukey method, Tukey's honest significance test, or Tukey's HSD test, is a single-step multiple comparison procedure and statistical test. It can be used to find means that are significantly different from each other."
   ]
  },
  {
   "cell_type": "code",
   "execution_count": 79,
   "id": "13561740",
   "metadata": {},
   "outputs": [],
   "source": [
    "df = vegan.append([vegetarian, beef, chicken], ignore_index=True)"
   ]
  },
  {
   "cell_type": "code",
   "execution_count": 89,
   "id": "161a1369",
   "metadata": {},
   "outputs": [
    {
     "data": {
      "text/html": [
       "<table class=\"simpletable\">\n",
       "<caption>Multiple Comparison of Means - Tukey HSD, FWER=0.05</caption>\n",
       "<tr>\n",
       "  <th>group1</th>    <th>group2</th>   <th>meandiff</th>  <th>p-adj</th>   <th>lower</th>    <th>upper</th>  <th>reject</th>\n",
       "</tr>\n",
       "<tr>\n",
       "   <td>beef</td>     <td>chicken</td>    <td>-14.0</td>   <td>0.001</td> <td>-20.9328</td>  <td>-7.0672</td>  <td>True</td> \n",
       "</tr>\n",
       "<tr>\n",
       "   <td>beef</td>      <td>vegan</td>     <td>-33.8</td>   <td>0.001</td> <td>-40.7328</td> <td>-26.8672</td>  <td>True</td> \n",
       "</tr>\n",
       "<tr>\n",
       "   <td>beef</td>   <td>vegetarian</td>   <td>-27.5</td>   <td>0.001</td> <td>-34.4328</td> <td>-20.5672</td>  <td>True</td> \n",
       "</tr>\n",
       "<tr>\n",
       "  <td>chicken</td>    <td>vegan</td>     <td>-19.8</td>   <td>0.001</td> <td>-26.7328</td> <td>-12.8672</td>  <td>True</td> \n",
       "</tr>\n",
       "<tr>\n",
       "  <td>chicken</td> <td>vegetarian</td>   <td>-13.5</td>   <td>0.001</td> <td>-20.4328</td>  <td>-6.5672</td>  <td>True</td> \n",
       "</tr>\n",
       "<tr>\n",
       "   <td>vegan</td>  <td>vegetarian</td>    <td>6.3</td>   <td>0.0862</td>  <td>-0.6328</td>  <td>13.2328</td>  <td>False</td>\n",
       "</tr>\n",
       "</table>"
      ],
      "text/plain": [
       "<class 'statsmodels.iolib.table.SimpleTable'>"
      ]
     },
     "execution_count": 89,
     "metadata": {},
     "output_type": "execute_result"
    },
    {
     "data": {
      "image/png": "[encoded data removed]",
      "text/plain": [
       "<Figure size 720x432 with 1 Axes>"
      ]
     },
     "metadata": {
      "needs_background": "light"
     },
     "output_type": "display_data"
    }
   ],
   "source": [
    "from statsmodels.stats.multicomp import pairwise_tukeyhsd\n",
    "\n",
    "tukey = pairwise_tukeyhsd(endog = df[\"land\"],\n",
    "                         groups = df[\"diet_type\"],\n",
    "                         alpha = 0.05)\n",
    "\n",
    "tukey.plot_simultaneous()\n",
    "\n",
    "tukey.summary()"
   ]
  },
  {
   "cell_type": "markdown",
   "id": "b76b4427",
   "metadata": {},
   "source": [
    "The lines in the above plot show the confidence intervals for the mean for each diet type. For Land Use all diet types are significantly different from eachother except for vegan and vegetarian."
   ]
  },
  {
   "cell_type": "markdown",
   "id": "0569fdbd",
   "metadata": {},
   "source": [
    "## Water"
   ]
  },
  {
   "cell_type": "code",
   "execution_count": 90,
   "id": "782a356d",
   "metadata": {},
   "outputs": [
    {
     "data": {
      "text/html": [
       "<table class=\"simpletable\">\n",
       "<caption>Multiple Comparison of Means - Tukey HSD, FWER=0.05</caption>\n",
       "<tr>\n",
       "  <th>group1</th>    <th>group2</th>   <th>meandiff</th>  <th>p-adj</th>   <th>lower</th>    <th>upper</th>  <th>reject</th>\n",
       "</tr>\n",
       "<tr>\n",
       "   <td>beef</td>     <td>chicken</td>    <td>-23.4</td>   <td>0.001</td> <td>-31.7106</td> <td>-15.0894</td>  <td>True</td> \n",
       "</tr>\n",
       "<tr>\n",
       "   <td>beef</td>      <td>vegan</td>     <td>-30.9</td>   <td>0.001</td> <td>-39.2106</td> <td>-22.5894</td>  <td>True</td> \n",
       "</tr>\n",
       "<tr>\n",
       "   <td>beef</td>   <td>vegetarian</td>   <td>-30.8</td>   <td>0.001</td> <td>-39.1106</td> <td>-22.4894</td>  <td>True</td> \n",
       "</tr>\n",
       "<tr>\n",
       "  <td>chicken</td>    <td>vegan</td>     <td>-7.5</td>   <td>0.0892</td> <td>-15.8106</td>  <td>0.8106</td>   <td>False</td>\n",
       "</tr>\n",
       "<tr>\n",
       "  <td>chicken</td> <td>vegetarian</td>   <td>-7.4</td>   <td>0.0956</td> <td>-15.7106</td>  <td>0.9106</td>   <td>False</td>\n",
       "</tr>\n",
       "<tr>\n",
       "   <td>vegan</td>  <td>vegetarian</td>    <td>0.1</td>     <td>0.9</td>   <td>-8.2106</td>  <td>8.4106</td>   <td>False</td>\n",
       "</tr>\n",
       "</table>"
      ],
      "text/plain": [
       "<class 'statsmodels.iolib.table.SimpleTable'>"
      ]
     },
     "execution_count": 90,
     "metadata": {},
     "output_type": "execute_result"
    },
    {
     "data": {
      "image/png": "[encoded data removed]",
      "text/plain": [
       "<Figure size 720x432 with 1 Axes>"
      ]
     },
     "metadata": {
      "needs_background": "light"
     },
     "output_type": "display_data"
    }
   ],
   "source": [
    "from statsmodels.stats.multicomp import pairwise_tukeyhsd\n",
    "\n",
    "tukey = pairwise_tukeyhsd(endog = df[\"water\"],\n",
    "                         groups = df[\"diet_type\"],\n",
    "                         alpha = 0.05)\n",
    "\n",
    "tukey.plot_simultaneous()\n",
    "\n",
    "tukey.summary()"
   ]
  },
  {
   "cell_type": "markdown",
   "id": "4c328b29",
   "metadata": {},
   "source": [
    "For water use, only beef is significantly different from vegan, vegetarian and chicken diets."
   ]
  },
  {
   "cell_type": "markdown",
   "id": "8ce6d68e",
   "metadata": {},
   "source": [
    "## Global Warming"
   ]
  },
  {
   "cell_type": "code",
   "execution_count": 91,
   "id": "28f41115",
   "metadata": {},
   "outputs": [
    {
     "data": {
      "text/html": [
       "<table class=\"simpletable\">\n",
       "<caption>Multiple Comparison of Means - Tukey HSD, FWER=0.05</caption>\n",
       "<tr>\n",
       "  <th>group1</th>    <th>group2</th>   <th>meandiff</th>  <th>p-adj</th>   <th>lower</th>    <th>upper</th>  <th>reject</th>\n",
       "</tr>\n",
       "<tr>\n",
       "   <td>beef</td>     <td>chicken</td>    <td>-27.8</td>   <td>0.001</td> <td>-33.9153</td> <td>-21.6847</td>  <td>True</td> \n",
       "</tr>\n",
       "<tr>\n",
       "   <td>beef</td>      <td>vegan</td>     <td>-33.0</td>   <td>0.001</td> <td>-39.1153</td> <td>-26.8847</td>  <td>True</td> \n",
       "</tr>\n",
       "<tr>\n",
       "   <td>beef</td>   <td>vegetarian</td>   <td>-27.8</td>   <td>0.001</td> <td>-33.9153</td> <td>-21.6847</td>  <td>True</td> \n",
       "</tr>\n",
       "<tr>\n",
       "  <td>chicken</td>    <td>vegan</td>     <td>-5.2</td>   <td>0.1195</td> <td>-11.3153</td>  <td>0.9153</td>   <td>False</td>\n",
       "</tr>\n",
       "<tr>\n",
       "  <td>chicken</td> <td>vegetarian</td>    <td>0.0</td>     <td>0.9</td>   <td>-6.1153</td>  <td>6.1153</td>   <td>False</td>\n",
       "</tr>\n",
       "<tr>\n",
       "   <td>vegan</td>  <td>vegetarian</td>    <td>5.2</td>   <td>0.1195</td>  <td>-0.9153</td>  <td>11.3153</td>  <td>False</td>\n",
       "</tr>\n",
       "</table>"
      ],
      "text/plain": [
       "<class 'statsmodels.iolib.table.SimpleTable'>"
      ]
     },
     "execution_count": 91,
     "metadata": {},
     "output_type": "execute_result"
    },
    {
     "data": {
      "image/png": "[encoded data removed]",
      "text/plain": [
       "<Figure size 720x432 with 1 Axes>"
      ]
     },
     "metadata": {
      "needs_background": "light"
     },
     "output_type": "display_data"
    }
   ],
   "source": [
    "from statsmodels.stats.multicomp import pairwise_tukeyhsd\n",
    "\n",
    "tukey = pairwise_tukeyhsd(endog = df[\"global_warming\"],\n",
    "                         groups = df[\"diet_type\"],\n",
    "                         alpha = 0.05)\n",
    "\n",
    "tukey.plot_simultaneous()\n",
    "\n",
    "tukey.summary()"
   ]
  },
  {
   "cell_type": "markdown",
   "id": "28c2effb",
   "metadata": {},
   "source": [
    "For global warming, only beef is significantly different from vegan, vegetarian and chicken diets."
   ]
  },
  {
   "cell_type": "markdown",
   "id": "68899f65",
   "metadata": {},
   "source": [
    "## Protein"
   ]
  },
  {
   "cell_type": "code",
   "execution_count": 92,
   "id": "7418acf6",
   "metadata": {},
   "outputs": [
    {
     "data": {
      "text/html": [
       "<table class=\"simpletable\">\n",
       "<caption>Multiple Comparison of Means - Tukey HSD, FWER=0.05</caption>\n",
       "<tr>\n",
       "  <th>group1</th>    <th>group2</th>   <th>meandiff</th>  <th>p-adj</th>   <th>lower</th>    <th>upper</th>  <th>reject</th>\n",
       "</tr>\n",
       "<tr>\n",
       "   <td>beef</td>     <td>chicken</td>    <td>22.4</td>   <td>0.0489</td>  <td>0.0844</td>   <td>44.7156</td>  <td>True</td> \n",
       "</tr>\n",
       "<tr>\n",
       "   <td>beef</td>      <td>vegan</td>     <td>-41.4</td>   <td>0.001</td> <td>-63.7156</td> <td>-19.0844</td>  <td>True</td> \n",
       "</tr>\n",
       "<tr>\n",
       "   <td>beef</td>   <td>vegetarian</td>   <td>-35.2</td>   <td>0.001</td> <td>-57.5156</td> <td>-12.8844</td>  <td>True</td> \n",
       "</tr>\n",
       "<tr>\n",
       "  <td>chicken</td>    <td>vegan</td>     <td>-63.8</td>   <td>0.001</td> <td>-86.1156</td> <td>-41.4844</td>  <td>True</td> \n",
       "</tr>\n",
       "<tr>\n",
       "  <td>chicken</td> <td>vegetarian</td>   <td>-57.6</td>   <td>0.001</td> <td>-79.9156</td> <td>-35.2844</td>  <td>True</td> \n",
       "</tr>\n",
       "<tr>\n",
       "   <td>vegan</td>  <td>vegetarian</td>    <td>6.2</td>   <td>0.8667</td> <td>-16.1156</td>  <td>28.5156</td>  <td>False</td>\n",
       "</tr>\n",
       "</table>"
      ],
      "text/plain": [
       "<class 'statsmodels.iolib.table.SimpleTable'>"
      ]
     },
     "execution_count": 92,
     "metadata": {},
     "output_type": "execute_result"
    },
    {
     "data": {
      "image/png": "[encoded data removed]",
      "text/plain": [
       "<Figure size 720x432 with 1 Axes>"
      ]
     },
     "metadata": {
      "needs_background": "light"
     },
     "output_type": "display_data"
    }
   ],
   "source": [
    "from statsmodels.stats.multicomp import pairwise_tukeyhsd\n",
    "\n",
    "tukey = pairwise_tukeyhsd(endog = df[\"protein\"],\n",
    "                         groups = df[\"diet_type\"],\n",
    "                         alpha = 0.05)\n",
    "\n",
    "tukey.plot_simultaneous()\n",
    "\n",
    "tukey.summary()"
   ]
  },
  {
   "cell_type": "markdown",
   "id": "ff577abc",
   "metadata": {},
   "source": [
    "For protein efficiency, all diet types are significantly different from eachother apart from vegan and vegetarian diets."
   ]
  },
  {
   "cell_type": "markdown",
   "id": "16df45a9",
   "metadata": {},
   "source": [
    "### How much of a difference will changing your diet help with your impacts? "
   ]
  },
  {
   "cell_type": "markdown",
   "id": "98322d95",
   "metadata": {},
   "source": [
    "- Meatless mondays (beef/chicken 6 days a week, vegetarian one day a week)\n",
    "- Meatless mondays (beef/chicken 6 days a week, vegan one day a week)\n",
    "- Vegan 5 days a week then chicken and beef at the weekend \n",
    "- Vegetarian 5 days a week then chicken and beef at the weekend"
   ]
  },
  {
   "cell_type": "code",
   "execution_count": null,
   "id": "58161fc6",
   "metadata": {},
   "outputs": [],
   "source": []
  }
 ],
 "metadata": {
  "kernelspec": {
   "display_name": "Python 3",
   "language": "python",
   "name": "python3"
  },
  "language_info": {
   "codemirror_mode": {
    "name": "ipython",
    "version": 3
   },
   "file_extension": ".py",
   "mimetype": "text/x-python",
   "name": "python",
   "nbconvert_exporter": "python",
   "pygments_lexer": "ipython3",
   "version": "3.8.8"
  }
 },
 "nbformat": 4,
 "nbformat_minor": 5
}
